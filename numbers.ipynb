{
 "cells": [
  {
   "cell_type": "markdown",
   "metadata": {},
   "source": [
    "# A numbers guessing game for beginner python project\n",
    "\n",
    "The User inputs the lower bound and upper bound of the range.\n",
    "The compiler generates a random integer between the range and store it in a variable for future references.\n",
    "For repetitive guessing, a while loop will be initialized.\n",
    "If the user guessed a number which is greater than a randomly selected number, the user gets an output “Try Again! You guessed too high“\n",
    "Else If the user guessed a number which is smaller than a randomly selected number, the user gets an output “Try Again! You guessed too small”\n",
    "And if the user guessed in a minimum number of guesses, the user gets a “Congratulations! ” Output.\n",
    "Else if the user didn’t guess the integer in the minimum number of guesses, he/she will get “Better Luck Next Time!” output."
   ]
  },
  {
   "cell_type": "code",
   "execution_count": 1,
   "metadata": {},
   "outputs": [
    {
     "ename": "SyntaxError",
     "evalue": "invalid syntax (3986640594.py, line 6)",
     "output_type": "error",
     "traceback": [
      "\u001b[1;36m  Cell \u001b[1;32mIn[1], line 6\u001b[1;36m\u001b[0m\n\u001b[1;33m    int main()\u001b[0m\n\u001b[1;37m        ^\u001b[0m\n\u001b[1;31mSyntaxError\u001b[0m\u001b[1;31m:\u001b[0m invalid syntax\n"
     ]
    }
   ],
   "source": [
    "#include <math.h>\n",
    "#include <stdio.h>\n",
    "#include <stdlib.h>\n",
    "#include <time.h>\n",
    "\n",
    "int main()\n",
    "{\n",
    "    int lower, upper, x, guess, count = 0, flag = 0;\n",
    "    int total_chances;\n",
    "\n",
    "    // Taking Inputs\n",
    "    printf(\"Enter Lower bound: \");\n",
    "    scanf(\"%d\", &lower);\n",
    "\n",
    "    // Taking Inputs\n",
    "    printf(\"Enter Upper bound: \");\n",
    "    scanf(\"%d\", &upper);\n",
    "\n",
    "    // Seed the random number generator\n",
    "    srand(time(0));\n",
    "\n",
    "    // Generating random number between the lower and upper\n",
    "    x = (rand() % (upper - lower + 1)) + lower;\n",
    "    total_chances\n",
    "        = (int)ceil(log(upper - lower + 1) / log(2));\n",
    "\n",
    "    printf(\"\\n\\tYou've only %d chances to guess the \"\n",
    "           \"integer!\\n\\n\",\n",
    "           total_chances);\n",
    "\n",
    "    // for calculation of minimum number of guesses depends\n",
    "    // upon range\n",
    "    while (count < total_chances) {\n",
    "        count++;\n",
    "\n",
    "        // Taking guessing number as input\n",
    "        printf(\"Guess a number: \");\n",
    "        scanf(\"%d\", &guess);\n",
    "\n",
    "        // Condition testing\n",
    "        if (x == guess) {\n",
    "            printf(\n",
    "                \"Congratulations you did it in %d try!\\n\",\n",
    "                count);\n",
    "            // Once guessed, loop will break\n",
    "            flag = 1;\n",
    "            break;\n",
    "        }\n",
    "        else if (x > guess) {\n",
    "            printf(\"You guessed too small!\\n\");\n",
    "        }\n",
    "        else if (x < guess) {\n",
    "            printf(\"You guessed too high!\\n\");\n",
    "        }\n",
    "    }\n",
    "\n",
    "    // If Guessing is more than required guesses, shows this\n",
    "    // output.\n",
    "    if (!flag) {\n",
    "        printf(\"\\nThe number is %d\\n\", x);\n",
    "        printf(\"\\tBetter Luck Next time!\\n\");\n",
    "    }\n",
    "\n",
    "    return 0;\n",
    "}"
   ]
  }
 ],
 "metadata": {
  "kernelspec": {
   "display_name": "Python 3",
   "language": "python",
   "name": "python3"
  },
  "language_info": {
   "codemirror_mode": {
    "name": "ipython",
    "version": 3
   },
   "file_extension": ".py",
   "mimetype": "text/x-python",
   "name": "python",
   "nbconvert_exporter": "python",
   "pygments_lexer": "ipython3",
   "version": "3.13.0"
  }
 },
 "nbformat": 4,
 "nbformat_minor": 2
}
