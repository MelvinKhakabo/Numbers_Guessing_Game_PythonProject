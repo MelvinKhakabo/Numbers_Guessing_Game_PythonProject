{
 "cells": [
  {
   "cell_type": "markdown",
   "metadata": {},
   "source": [
    "# A numbers guessing game for beginner python project\n",
    "\n",
    "The User inputs the lower bound and upper bound of the range.\n",
    "The compiler generates a random integer between the range and store it in a variable for future references.\n",
    "For repetitive guessing, a while loop will be initialized.\n",
    "If the user guessed a number which is greater than a randomly selected number, the user gets an output “Try Again! You guessed too high“\n",
    "Else If the user guessed a number which is smaller than a randomly selected number, the user gets an output “Try Again! You guessed too small”\n",
    "And if the user guessed in a minimum number of guesses, the user gets a “Congratulations! ” Output.\n",
    "Else if the user didn’t guess the integer in the minimum number of guesses, he/she will get “Better Luck Next Time!” output."
   ]
  },
  {
   "cell_type": "code",
   "execution_count": null,
   "metadata": {},
   "outputs": [
    {
     "name": "stdout",
     "output_type": "stream",
     "text": [
      "\n",
      "\tYou've only 7 chances to guess the integer!\n",
      "\n",
      "You guessed too small!\n",
      "You guessed too small!\n",
      "You guessed too small!\n",
      "You guessed too high!\n",
      "You guessed too small!\n",
      "You guessed too high!\n"
     ]
    }
   ],
   "source": [
    "import math\n",
    "import random\n",
    "\n",
    "# Taking Inputs\n",
    "lower = int(input(\"Enter Lower bound: \"))\n",
    "upper = int(input(\"Enter Upper bound: \"))\n",
    "\n",
    "# Generating random number between the lower and upper\n",
    "x = random.randint(lower, upper)\n",
    "total_chances = math.ceil(math.log(upper - lower + 1, 2))\n",
    "\n",
    "print(f\"\\n\\tYou've only {total_chances} chances to guess the integer!\\n\")\n",
    "\n",
    "count = 0\n",
    "flag = False\n",
    "\n",
    "# for calculation of minimum number of guesses depends upon range\n",
    "while count < total_chances:\n",
    "    count += 1\n",
    "\n",
    "    # Taking guessing number as input\n",
    "    guess = int(input(\"Guess a number: \"))\n",
    "\n",
    "    # Condition testing\n",
    "    if x == guess:\n",
    "        print(f\"Congratulations you did it in {count} try!\")\n",
    "        flag = True\n",
    "        break\n",
    "    elif x > guess:\n",
    "        print(\"You guessed too small!\")\n",
    "    else:\n",
    "        print(\"You guessed too high!\")\n",
    "\n",
    "# If Guessing is more than required guesses, show this output\n",
    "if not flag:\n",
    "    print(f\"\\nThe number is {x}\")\n",
    "    print(\"\\tBetter Luck Next time!\")\n"
   ]
  }
 ],
 "metadata": {
  "kernelspec": {
   "display_name": "Python 3",
   "language": "python",
   "name": "python3"
  },
  "language_info": {
   "codemirror_mode": {
    "name": "ipython",
    "version": 3
   },
   "file_extension": ".py",
   "mimetype": "text/x-python",
   "name": "python",
   "nbconvert_exporter": "python",
   "pygments_lexer": "ipython3",
   "version": "3.13.0"
  }
 },
 "nbformat": 4,
 "nbformat_minor": 2
}
